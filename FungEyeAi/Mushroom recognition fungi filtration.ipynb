{
 "cells": [
  {
   "cell_type": "code",
   "execution_count": null,
   "metadata": {},
   "outputs": [],
   "source": [
    "import os\n",
    "import shutil\n",
    "from matplotlib import pyplot as plt\n",
    "import numpy as np\n",
    "import pandas as pd\n",
    "from PIL import Image\n",
    "\n",
    "MUSHROOMS_PATH = 'mushrooms_dataset'\n",
    "\n",
    "# Directory for the images and its subdirectories\n",
    "images_dir = os.path.join(MUSHROOMS_PATH, 'images')\n",
    "subdirs = [os.path.join(images_dir, subdir) for subdir in os.listdir(images_dir) if os.path.isdir(os.path.join(images_dir, subdir))]"
   ]
  },
  {
   "cell_type": "code",
   "execution_count": null,
   "metadata": {},
   "outputs": [],
   "source": [
    "len(subdirs) #7751"
   ]
  },
  {
   "cell_type": "markdown",
   "metadata": {},
   "source": [
    "Now we check whether the mushrooms actually belong to mushrooms (are in Fungi kingdom)"
   ]
  },
  {
   "cell_type": "code",
   "execution_count": null,
   "metadata": {},
   "outputs": [],
   "source": [
    "fungus_types_csv = pd.read_csv(\"mushrooms_dataset/name_classifications.csv\", delimiter=\"\\t\")\n",
    "fungus_types_df = pd.DataFrame(fungus_types_csv)\n",
    "fungus_types_df "
   ]
  },
  {
   "cell_type": "code",
   "execution_count": null,
   "metadata": {},
   "outputs": [],
   "source": [
    "non_fungus_types = fungus_types_df[fungus_types_df['kingdom'] != 'Fungi']\n",
    "non_fungus_types['kingdom'].unique() # We see now that are some non-fungus types in the dataset"
   ]
  },
  {
   "cell_type": "code",
   "execution_count": null,
   "metadata": {},
   "outputs": [],
   "source": [
    "# We need to create a list of the fungus families that are not fungi\n",
    "non_fungus_families = non_fungus_types['family'].unique()\n",
    "non_fungus_families"
   ]
  },
  {
   "cell_type": "code",
   "execution_count": null,
   "metadata": {},
   "outputs": [],
   "source": [
    "non_fungus_types = non_fungus_types.drop(non_fungus_types[non_fungus_types['name_id'] == 1].index)\n",
    "non_fungus_types"
   ]
  },
  {
   "cell_type": "code",
   "execution_count": null,
   "metadata": {},
   "outputs": [],
   "source": [
    "# Because these names are the family names of the non-fungus types, but in our dataset they are named by the genus name so we need to handle this\n",
    "# We have a csv file that contains the genus names of the non-fungus types based on name_id that is in our non_fungus_types dataframe\n",
    "# We want to get the genus names of the non-fungus types and then we will use them to filter out the non-fungus types from our dataset\n",
    "fungus_genus_names = pd.read_csv(\"mushrooms_dataset/names.csv\", delimiter=\"\\t\")\n",
    "fungus_genus_names_df = pd.DataFrame(fungus_genus_names)\n",
    "fungus_genus_names_df = fungus_genus_names_df.drop(fungus_genus_names_df[fungus_genus_names_df['id'] == 1].index)\n",
    "fungus_genus_names_df\n"
   ]
  },
  {
   "cell_type": "code",
   "execution_count": null,
   "metadata": {},
   "outputs": [],
   "source": [
    "# We create a list of nun-fungus genus names based on the name_id from the non_fungus_types dataframe and the id from the fungus_genus_names_df dataframe\n",
    "non_fungus_genus_names = []\n",
    "for i in non_fungus_types['name_id']:\n",
    "    non_fungus_genus_names.append(fungus_genus_names_df[fungus_genus_names_df['id'] == i]['text_name'].values[0])\n",
    "non_fungus_genus_names"
   ]
  },
  {
   "cell_type": "code",
   "execution_count": null,
   "metadata": {},
   "outputs": [],
   "source": [
    "# We can see that the names sometimes contanins something like \"var.\" or \"f.\" or \"subsp.\" so we need to remove the unnecessary part it from the names\n",
    "# It always contains 1 or 2 words that are genus names, so we split the name by space and take the first 2 words and join them by '_' sign\n",
    "def clean_genus_names(genus_names):\n",
    "    cleaned_genus_names = []\n",
    "    for name in genus_names:\n",
    "        words = name.split() # Split the name by space\n",
    "        if len(words) >= 2:\n",
    "            name = '_'.join(words[:2])\n",
    "        cleaned_genus_names.append(name)\n",
    "    return cleaned_genus_names\n",
    "\n",
    "non_fungus_genus_names = clean_genus_names(non_fungus_genus_names)\n",
    "non_fungus_genus_names"
   ]
  },
  {
   "cell_type": "code",
   "execution_count": null,
   "metadata": {},
   "outputs": [],
   "source": [
    "# Now that we have a list with the genus names of the non-fungus types we can filter out the non-fungus types from our dataset\n",
    "# We will delete the non-fungus types based on the genus names of the non-fungus types from our directory\n",
    "\n",
    "def delete_fungus(fungus, dir):\n",
    "    for subdir in os.listdir(dir):\n",
    "        if subdir in fungus:\n",
    "            shutil.rmtree(os.path.join(dir, subdir))\n",
    "            print(f\"Deleted {subdir}\")\n",
    "delete_fungus(non_fungus_genus_names, images_dir) # About 100 non-fungus types were deleted"
   ]
  },
  {
   "cell_type": "code",
   "execution_count": null,
   "metadata": {},
   "outputs": [],
   "source": [
    "subdirs = [os.path.join(images_dir, subdir) for subdir in os.listdir(images_dir) if os.path.isdir(os.path.join(images_dir, subdir))]\n",
    "len(subdirs) #7644"
   ]
  },
  {
   "cell_type": "code",
   "execution_count": null,
   "metadata": {},
   "outputs": [],
   "source": [
    "# It didint quite work as expected. It seems that we dont have the exact genus names of the non-fungus types in our dataset. Maybe we can also try to delete fungi types\n",
    "# based on their phylum names not kingdom. We can try to get the phyllum names of the non-fungus types and then delete the fungi types based on their phyllum names\n",
    "# Lets check how many unique phylum names we have in our dataset and how many fungis each phyllum contains\n",
    "\n",
    "fungus_phylums = fungus_types_df['phylum'].unique()\n",
    "fungus_phylums"
   ]
  },
  {
   "cell_type": "code",
   "execution_count": null,
   "metadata": {},
   "outputs": [],
   "source": [
    "fungus_phylums_counts = fungus_types_df['phylum'].value_counts()\n",
    "fungus_phylums_counts"
   ]
  },
  {
   "cell_type": "markdown",
   "metadata": {},
   "source": [
    "The most popular mushroom phylums are Basidiomycota and Ascomycota and they are the ones that we need because lots of mushrooms in these phylums are suitable for collecting, the rest phylums are not needed"
   ]
  },
  {
   "cell_type": "code",
   "execution_count": null,
   "metadata": {},
   "outputs": [],
   "source": [
    "# We do similar thing as we did with the non fungi kingdoms. We can get the mushroom names based on their phylum that we got from the fungus_phyllums dataframe\n",
    "# and we delete those which are not Basidiomycota or Ascomycota\n",
    "del_phylum_list = []\n",
    "\n",
    "del_phylum_names = fungus_phylums_counts.index[2:]\n",
    "del_phylum_names_df = fungus_types_df[fungus_types_df['phylum'].isin(del_phylum_names)]\n",
    "\n",
    "for id in del_phylum_names_df['name_id']:\n",
    "    del_phylum_list.append(fungus_genus_names_df[fungus_genus_names_df['id'] == id]['text_name'].values[0])\n",
    "del_phylum_list"
   ]
  },
  {
   "cell_type": "code",
   "execution_count": null,
   "metadata": {},
   "outputs": [],
   "source": [
    "# Now we have a lost of genus names of the fungi types that are not Basidiomycota or Ascomycota. We can delete them from our dataset, but first we have to clean the names\n",
    "\n",
    "del_phylum_list = clean_genus_names(del_phylum_list)\n",
    "del_phylum_list"
   ]
  },
  {
   "cell_type": "code",
   "execution_count": null,
   "metadata": {},
   "outputs": [],
   "source": [
    "# We delete the fungis in out dataset based on their genus names in our list\n",
    "delete_fungus(del_phylum_list, images_dir) # About 10 fungi types were deleted"
   ]
  },
  {
   "cell_type": "code",
   "execution_count": null,
   "metadata": {},
   "outputs": [],
   "source": [
    "subdirs = [os.path.join(images_dir, subdir) for subdir in os.listdir(images_dir) if os.path.isdir(os.path.join(images_dir, subdir))]\n",
    "len(subdirs) #7626"
   ]
  },
  {
   "cell_type": "markdown",
   "metadata": {},
   "source": [
    "It still doesnt shrink our dataset enough, there are still a lot of mushrooms that are not useful for our app and not suitable for common collecting. We deleted the non fungi kingdom and phylums that are uncommon. So we were left with a 7626 classes of fungis that belong to 2 phylums - Basidiomycota and Ascomycota. Maybe it is time to go even deeper to classes of phylums and check if they may be the solution of our problem"
   ]
  },
  {
   "cell_type": "code",
   "execution_count": null,
   "metadata": {},
   "outputs": [],
   "source": [
    "fungus_types_df['class'].unique()"
   ]
  },
  {
   "cell_type": "code",
   "execution_count": null,
   "metadata": {},
   "outputs": [],
   "source": [
    "# First we can delete from the fungus_types_df the non-fungus types and the fungi phylums that are not Basidiomycota or Ascomycota\n",
    "fungus_types_df = fungus_types_df.drop(fungus_types_df[fungus_types_df['family'].isin(non_fungus_families)].index)\n",
    "fungus_types_df = fungus_types_df.drop(fungus_types_df[fungus_types_df['phylum'].isin(del_phylum_names)].index)\n",
    "fungus_types_df"
   ]
  },
  {
   "cell_type": "code",
   "execution_count": null,
   "metadata": {},
   "outputs": [],
   "source": [
    "# Lets create a list of sorted the unique classes of the fungis\n",
    "fungus_classes = fungus_types_df['class'].unique()\n",
    "fungus_classes = pd.Series(fungus_classes).sort_values().values\n",
    "fungus_classes = pd.Series(fungus_classes).dropna().values\n",
    "fungus_classes"
   ]
  },
  {
   "cell_type": "code",
   "execution_count": null,
   "metadata": {},
   "outputs": [],
   "source": [
    "# We can make a plot of the number of fungis in each class, we will use the name_id to see how many fungis are in each class\n",
    "fungus_classes_counts = fungus_types_df['class'].value_counts()\n",
    "fungus_classes_counts = fungus_classes_counts.sort_index()\n",
    "fungus_classes_counts.plot(kind='bar', figsize=(12, 10), title='Number of fungis in each class', xlabel='Class', ylabel='Number of fungis', color='green')"
   ]
  },
  {
   "cell_type": "markdown",
   "metadata": {},
   "source": [
    "Chcemy teraz spośród tych wszystkich klas wyodrębnić te które występują najczęściej i są chętnie zbierane"
   ]
  },
  {
   "cell_type": "markdown",
   "metadata": {},
   "source": [
    "Po researchu wyodrębniłem klasy które występują często oraz są porządane przez zbieraczy grzybów:\n",
    "1. Ascomycota:\n",
    "    - Pezizomycetes (dużo grzybów jadalnych jest w tej klasie, które są poszukiwane)\n",
    "2. Basidiomycota:\n",
    "    - Agaricomycetes (bardzo dużo grzybów jadalnych, jest też sporo dziwnych odmian ale jest to nasza główna klasa więc zostawiamy, potencjalnie do dalszego filtrowania)\n",
    "    \n",
    "Takie, które mogą być przydatne do rozpoznania, choć nie są powszechnie zbierane:\n",
    "1. Ascomycota:\n",
    "    - Arthoniomycetes (porosty)\n",
    "    - Ascomycetes (chyba to klasa taka ogólna, parę grzybów z tej klasy w naszym datasecie jest rzadka ale mają dobry potencjał do trenowania - dobrej jakości zdjęcia)\n",
    "    - Leotiomycetes (patyczniaki, jest ich dużo ale są bardzo zdywersyfikowane, większość się nie zbiera i mają zdjęcia średniej jakości ale trzymam je tu bo mamy ich sporo)\n",
    "2. Basidiomycota:\n",
    "    - Dacrymycetes (popularne grzyby aczkolwiek są małe i pasożytnicze, niezbieralne spożywczo)\n",
    "    - Geoglossomycetes (mała klasa, bardzo charakterystyczna, często zbiera się ją kolekcjonersko ze względu na jej wygląd i całkiem rzadkie występowanie)\n",
    "    - Tremellomycetes (charakterystyczne i niektóre gatunki są wykorzystywane w przemyśle spożywczym oraz farmaceutycznym, raczej nie zbiera się ich na codzień ale można pomyśleć nad pozostawieniem ich jako ciekawy dodatek)\n",
    "    \n",
    "Takie, których na spokojnie można się pozbyć, nikt poza ekstremalnymi fanami nie będzie ich zbierał\n",
    "1. Ascomycota:\n",
    "    - Dorthideomycetes (głównie pasożyty)\n",
    "    - Sordariomycetes (mało popularne, czasem się je zbiera do wykorzystania w medycynie tradycyjnej ale nie mają wartości kolekcjonerskiej/spożywczej)\n",
    "    - Eurotiomycetas (nie nadają się do zbierania za bardzo, niespotykane)\n",
    "    - Lecanoromycetes (porosty)\n",
    "    - Laboulbeniomycetes (owadorośla - nieprzydatne nam)\n",
    "    - Saccharomycetes (drożdże)\n",
    "    - Euascomycetes (niespotykana klasa, w naszym datasecie nawet nie ma grzybów z niej - do usunięcia)\n",
    "    - Euascomycotina (mała klasa, nie będąca obiektem poszukiwań przeciętnych grzybiarzy)\n",
    "    - Neolectomycetes (mała klasa, rzadko występuje w Europie, choć ma całkiem ciekawe grzyby, jednak nie przydadzą nam się)\n",
    "    - Orbiliomycetes (klasa grzybów drapieżnych, niezbieralne)\n",
    "    - Plectomycetes (bakterie)\n",
    "    - Pneumocysomycetes (bakterie, mogą być w ludzkich płucach :O )\n",
    "    - Sareomycetes (bardzo mało info więc zakładam że nieprzydatna z punktu widzenia zbieractwa)\n",
    "    - Schizosaccharomycetes (dziwadła, niepopularne i niezbieralne)\n",
    "    - Xylobotromycetes (pasożyty)\n",
    "    - Collemopsidiomycetes (rzadkie grzyby, niespotykane raczej w Europie)\n",
    "    - Coniocybomycetes (żyją w symbiozie z drzewami, mała klasa, raczej nie jest celem grzybiarzy)\n",
    "    - Lichinomycetes (żyją z sinicami i tworzą porosty, do usunięcia)\n",
    "2. Basidiomycota:\n",
    "    - Atractiellomycetes (mała klasa, zawiera pasożyty i grzyby do bardziej naukowych badań)\n",
    "    - Malasseziomycetes (podobnie jak powyższa, nie nadaje się do zbieractwa)\n",
    "    - Tritirachiomycetes (mała klasa o jednym gatunku, niezbieralny spożywczo)\n",
    "    - Hyphomycetes (dużo pleśni, całkiem często spotykane ale nie są zbierane ani wykorzystywane spożywczo)\n",
    "    - Urediniomycetes (podklasa rdzy)\n",
    "    - Ustilaginomycetes (pasożyty, niepotrzebne nam)\n",
    "    - Agaricostilbomycetes (całkiem nowa klasa, mało przykładów, niepotrzebne)\n",
    "    - Exobasidiomycetes (pasożyty roślinne)\n",
    "    - Wallemiomycetes (malutkie grzyby, nowa klasa, spotykane w jedzeniu)\n",
    "    - Pucciniomycetes (rdze, bleh)\n",
    "    - Cystobasidiomycetes (też coś wspólnego ze rdzą mają to nie bierzemy pod uwagę)"
   ]
  },
  {
   "cell_type": "code",
   "execution_count": null,
   "metadata": {},
   "outputs": [],
   "source": [
    "# So after this we have few classes that we want to keep and that are: Pezizomycetes, Agaricomycetes,\n",
    "# Arthoniomycetes, Ascomycetes, Leotiomycetes, Dacrymycetes, Geoglossomycetes, Tremellomycetes\n",
    "# The rest of the classes we will delete from our dataset, we will make a list of the classes that we want to delete\n",
    "\n",
    "delete_fungus_classes = fungus_classes[~np.isin(fungus_classes, ['Pezizomycetes', 'Agaricomycetes', 'Arthoniomycetes', 'Ascomycetes', 'Leotiomycetes', 'Dacrymycetes',\n",
    "                                                                  'Geoglossomycetes', 'Tremellomycetes'])]\n",
    "delete_fungus_classes"
   ]
  },
  {
   "cell_type": "code",
   "execution_count": null,
   "metadata": {},
   "outputs": [],
   "source": [
    "# Now we will do the same process as we did with the non-fungus types and with the fungi phylums. We will get the genus names of the fungis that are in the classes that we want to delete\n",
    "\n",
    "del_class_list = []\n",
    "del_class_df = fungus_types_df[fungus_types_df['class'].isin(delete_fungus_classes)]\n",
    "\n",
    "for id in del_class_df['name_id']:\n",
    "    del_class_list.append(fungus_genus_names_df[fungus_genus_names_df['id'] == id]['text_name'].values[0])\n",
    "del_class_list"
   ]
  },
  {
   "cell_type": "code",
   "execution_count": null,
   "metadata": {},
   "outputs": [],
   "source": [
    "len(del_class_list) # 10559"
   ]
  },
  {
   "cell_type": "code",
   "execution_count": null,
   "metadata": {},
   "outputs": [],
   "source": [
    "del_class_list = clean_genus_names(del_class_list)\n",
    "del_class_list"
   ]
  },
  {
   "cell_type": "code",
   "execution_count": null,
   "metadata": {},
   "outputs": [],
   "source": [
    "# Lets see how many mushrooms we will delete from our dataset\n",
    "catalog_names = os.listdir(images_dir)\n",
    "\n",
    "matching_values = [value for value in del_class_list if value in catalog_names]\n",
    "count = len(matching_values)\n",
    "print(f\"The number of values in your list that match the names of the catalogs in your images_dir is: {count}\") # 837"
   ]
  },
  {
   "cell_type": "code",
   "execution_count": null,
   "metadata": {},
   "outputs": [],
   "source": [
    "# Delete the fungis from our dataset based on their names in the classes that we want to delete\n",
    "delete_fungus(del_class_list, images_dir)"
   ]
  },
  {
   "cell_type": "code",
   "execution_count": null,
   "metadata": {},
   "outputs": [],
   "source": [
    "subdirs = [os.path.join(images_dir, subdir) for subdir in os.listdir(images_dir) if os.path.isdir(os.path.join(images_dir, subdir))]\n",
    "len(subdirs) #6859"
   ]
  },
  {
   "cell_type": "code",
   "execution_count": null,
   "metadata": {},
   "outputs": [],
   "source": [
    "# Less than 1000 mushrooms from our dataset were deleted, which is not enough to make a big difference. \n",
    "# I noticed that some mushrooms that needed to be deleted dont have its corresponding id in the names.csv file, so we need to check which ones are missing\n",
    "\n",
    "# We create a list of the ids of the fungus_genus_names and we will compare it with the name_ids from the fungus_types_csv\n",
    "name_ids = pd.DataFrame(fungus_types_csv['name_id'])\n",
    "ids = pd.DataFrame(fungus_genus_names['id'])\n",
    "\n",
    "\n",
    "missing_ids = []\n",
    "for id in ids['id'].values:\n",
    "    if id not in name_ids['name_id'].values:\n",
    "        missing_ids.append(id)\n",
    "missing_ids"
   ]
  },
  {
   "cell_type": "code",
   "execution_count": null,
   "metadata": {},
   "outputs": [],
   "source": [
    "# Now that we have mushrooms ids that are not in the names.csv file we can try to delete them based on their name_id\n",
    "\n",
    "unmatched_names = []\n",
    "for id in missing_ids:\n",
    "    matching_rows = fungus_genus_names_df[fungus_genus_names_df['id'] == id]\n",
    "    if not matching_rows.empty:\n",
    "        unmatched_names.append(matching_rows['text_name'].values[0])\n",
    "unmatched_names"
   ]
  },
  {
   "cell_type": "code",
   "execution_count": null,
   "metadata": {},
   "outputs": [],
   "source": [
    "len(unmatched_names)"
   ]
  },
  {
   "cell_type": "code",
   "execution_count": null,
   "metadata": {},
   "outputs": [],
   "source": [
    "with open('list.txt', 'w') as f: # We write the unmatched names to a file so we can check it and determine which we can delete or not\n",
    "    for item in unmatched_names:\n",
    "        f.write(\"%s\\n\" % item)"
   ]
  },
  {
   "cell_type": "markdown",
   "metadata": {},
   "source": [
    "I used ChatGPT (4o model) to determine which mushrooms from the list i should keep. I made another text file with these names called mushrooms_to_keep.txt"
   ]
  },
  {
   "cell_type": "code",
   "execution_count": null,
   "metadata": {},
   "outputs": [],
   "source": [
    "# We can now clean the names of the unmatched mushrooms and names that are in mushrooms_to_keep.txt file, but first lets make a list of the mushrooms that we want to keep\n",
    "\n",
    "mushrooms_to_keep = open('mushrooms_to_keep.txt', 'r')\n",
    "mushrooms_to_keep = mushrooms_to_keep.readlines()\n",
    "mushrooms_to_keep = [name.strip() for name in mushrooms_to_keep]\n",
    "mushrooms_to_keep"
   ]
  },
  {
   "cell_type": "code",
   "execution_count": null,
   "metadata": {},
   "outputs": [],
   "source": [
    "# We can now clean both the unmatched names and the names that we want to keep\n",
    "unmatched_names = clean_genus_names(unmatched_names)\n",
    "mushrooms_to_keep = clean_genus_names(mushrooms_to_keep)\n"
   ]
  },
  {
   "cell_type": "code",
   "execution_count": null,
   "metadata": {},
   "outputs": [],
   "source": [
    "# Since we want to delete mushrooms that are not in the mushrooms_to_keep list from the unmatched_names list first we can check if the values in the unmatched_names list are unique\n",
    "len(unmatched_names) # 34953\n",
    "len(set(unmatched_names)) # 33662\n",
    "# We can see that the values in the unmatched_names list are not unique so we need to make them unique\n",
    "unmatched_names = list(set(unmatched_names))\n",
    "len(unmatched_names) # 33662\n"
   ]
  },
  {
   "cell_type": "code",
   "execution_count": null,
   "metadata": {},
   "outputs": [],
   "source": [
    "# We can now delete mushrooms from the mushrooms_to_keep list from the unmatched_names list\n",
    "# First we can see how many mushrooms in the mushrooms_to_keep list are in the unmatched_names list\n",
    "matching_mushrooms = [name for name in mushrooms_to_keep if name in unmatched_names]\n",
    "len(matching_mushrooms) # 35\n",
    "# Now we can delete the values in mushrooms_to_keep from the unmatched_names list\n",
    "unmatched_names = [name for name in unmatched_names if name not in mushrooms_to_keep]\n",
    "len(unmatched_names)"
   ]
  },
  {
   "cell_type": "code",
   "execution_count": null,
   "metadata": {},
   "outputs": [],
   "source": [
    "# We have the names of the mushrooms that are not in the names.csv file, we can try to delete them from our dataset to see if it makes a difference\n",
    "delete_fungus(unmatched_names, images_dir)"
   ]
  },
  {
   "cell_type": "code",
   "execution_count": null,
   "metadata": {},
   "outputs": [],
   "source": [
    "subdirs = [os.path.join(images_dir, subdir) for subdir in os.listdir(images_dir) if os.path.isdir(os.path.join(images_dir, subdir))]\n",
    "len(subdirs) # 3976"
   ]
  },
  {
   "cell_type": "markdown",
   "metadata": {},
   "source": [
    "*NOTE!*   Do this after Fungi detection notebook!\n",
    "\n",
    "Now we have smaller dataset but there are some dirs that contain small amount of images so first step will be to create modified copies of them.\n",
    "If that wont work efficiently we can delete them and later we can make modified copies anyway."
   ]
  },
  {
   "cell_type": "code",
   "execution_count": null,
   "metadata": {},
   "outputs": [],
   "source": [
    "images_dir = os.path.join(MUSHROOMS_PATH, 'images_FasterRCNN', 'images_correct')\n",
    "subdirs = [os.path.join(images_dir, subdir) for subdir in os.listdir(images_dir) if os.path.isdir(os.path.join(images_dir, subdir))]"
   ]
  },
  {
   "cell_type": "code",
   "execution_count": null,
   "metadata": {},
   "outputs": [],
   "source": [
    "# Since we have a lot of mushroom types in our dataset we can try to delete the ones that have less than 20 images, we will see then how many mushrooms we have left in our dataset\n",
    "# Check if in each subdirectory there are less than 20 images\n",
    "for subdir in subdirs:\n",
    "    images = [img for img in os.listdir(subdir) if img.endswith('.jpg')]\n",
    "\n",
    "    if len(images) < 20:\n",
    "        shutil.rmtree(subdir)\n",
    "        print(f\"Deleted {subdir}\")\n",
    "\n",
    "subdirs = [os.path.join(images_dir, subdir) for subdir in os.listdir(images_dir) if os.path.isdir(os.path.join(images_dir, subdir))]\n",
    "len(subdirs) # 1002"
   ]
  },
  {
   "cell_type": "markdown",
   "metadata": {},
   "source": [
    "Since we rotate images images directly in Mushrooms recognition model in ImageDataGenerator we dont need to do it here, this would only create not needed copies that require more space and decrease models performance"
   ]
  },
  {
   "cell_type": "markdown",
   "metadata": {},
   "source": [
    "It turned out that our species occur mostly in Northern America. Since our goal is to have species that can be seen in Europe we had to change our dataset by a lot. After some research we got 189 species that can be found in Poland and Europe.\n",
    "For 87 we already have images but for the rest we need to get them. We will try to obtain them from iNaturalist database using iNaturalist API"
   ]
  },
  {
   "cell_type": "markdown",
   "metadata": {},
   "source": [
    "First we can create a function to connect with iNaturalist API and download 50 images of a specie that we need"
   ]
  },
  {
   "cell_type": "code",
   "execution_count": null,
   "metadata": {},
   "outputs": [],
   "source": [
    "from pyinaturalist.node_api import get_observations\n",
    "import os\n",
    "import requests\n",
    "import random\n",
    "\n",
    "def get_inaturalist_images(specie_name, max_images, save_dir):\n",
    "   \n",
    "    # Parameters for the API request\n",
    "    params = {\n",
    "        'q': specie_name,\n",
    "        'per_page': max_images,\n",
    "        'order_by': 'created_at',\n",
    "        'order': 'desc'\n",
    "    }\n",
    "\n",
    "    # Make the API request using pyinaturalist module to get the observation data including the images\n",
    "    response = get_observations(**params)\n",
    "    results = response['results']\n",
    "    \n",
    "    # Clean the genus names\n",
    "    specie_name = specie_name.replace('-', '_')\n",
    "\n",
    "    for i, result in enumerate(results):\n",
    "        if 'photos' in result:\n",
    "            for photo in result['photos']:\n",
    "                photo_url = photo['url'].replace('square', 'medium')\n",
    "                photo_response = requests.get(photo_url, stream=True)\n",
    "                if photo_response.status_code == 200:\n",
    "                    specie_dir = os.path.join(save_dir, specie_name)\n",
    "                    if not os.path.exists(specie_dir):\n",
    "                        os.makedirs(specie_dir, exist_ok=True)\n",
    "                        print(f\"Created directory {specie_dir}\")\n",
    "                    photo_path = os.path.join(specie_dir, f\"{i + random.randint(1, 199999)}.jpg\")\n",
    "                    with open(photo_path, 'wb') as f:\n",
    "                        for chunk in photo_response.iter_content(1024):\n",
    "                            f.write(chunk)\n",
    "                    print(f\"Saved {photo_path}\")\n",
    "                else:\n",
    "                    print(f\"Failed to download image from {photo_url}\")"
   ]
  },
  {
   "cell_type": "markdown",
   "metadata": {},
   "source": [
    "Now we have to prepare our mushroom species list. I prepared one that summed and compared species from our dataset and new ones that mostly occur in Poland and Europe."
   ]
  },
  {
   "cell_type": "code",
   "execution_count": null,
   "metadata": {},
   "outputs": [],
   "source": [
    "# File with the list is called mushrooms_europe.txt\n",
    "# Lets see couple of examples of the mushrooms that are in the list\n",
    "mushrooms_europe = open('mushrooms_dataset/mushrooms_europe.txt', 'r')\n",
    "mushrooms_europe = [name.strip() for name in mushrooms_europe]\n",
    "mushrooms_europe[:20]"
   ]
  },
  {
   "cell_type": "markdown",
   "metadata": {},
   "source": [
    "Now we also need a list with only those species that we have to download. I prepared one that is called mushroom_europe_download.txt"
   ]
  },
  {
   "cell_type": "code",
   "execution_count": null,
   "metadata": {},
   "outputs": [],
   "source": [
    "# Examples of the mushrooms that are in the list\n",
    "mushrooms_europe_to_download = open('mushrooms_dataset/mushrooms_europe_download.txt', 'r')\n",
    "mushrooms_europe_to_download = [name.strip() for name in mushrooms_europe_to_download]\n",
    "mushrooms_europe_to_download[:20]"
   ]
  },
  {
   "cell_type": "code",
   "execution_count": null,
   "metadata": {},
   "outputs": [],
   "source": [
    "# From our huge dataset we now have to delete the mushrooms that are not in the mushrooms_europe list\n",
    "list_of_mushrooms = os.listdir(images_dir)\n",
    "matching_mushrooms = [name for name in list_of_mushrooms if name in mushrooms_europe]\n",
    "len(matching_mushrooms)"
   ]
  },
  {
   "cell_type": "code",
   "execution_count": null,
   "metadata": {},
   "outputs": [],
   "source": [
    "len(list_of_mushrooms)"
   ]
  },
  {
   "cell_type": "code",
   "execution_count": null,
   "metadata": {},
   "outputs": [],
   "source": [
    "# Delete the mushrooms from our images_dir that are not in the mushrooms_europe list\n",
    "for specie in list_of_mushrooms:\n",
    "    if specie not in matching_mushrooms:\n",
    "        shutil.rmtree(os.path.join(images_dir, specie))\n",
    "        print(f\"Deleted {specie}\")"
   ]
  },
  {
   "cell_type": "code",
   "execution_count": null,
   "metadata": {},
   "outputs": [],
   "source": [
    "# We can now check how many mushrooms we have left in our dataset\n",
    "list_of_mushrooms = os.listdir(images_dir)\n",
    "len(list_of_mushrooms)"
   ]
  },
  {
   "cell_type": "code",
   "execution_count": null,
   "metadata": {},
   "outputs": [],
   "source": [
    "# We can now download the images of the mushrooms that are in the mushrooms_europe_downaload list\n",
    "# First we need to adjust the names of the mushrooms in the list, we have to replace '_' with '-'\n",
    "mushrooms_europe_to_download = [name.replace('_', '-') for name in mushrooms_europe_to_download]\n",
    "mushrooms_europe_to_download[:20]"
   ]
  },
  {
   "cell_type": "code",
   "execution_count": null,
   "metadata": {},
   "outputs": [],
   "source": [
    "len(mushrooms_europe_to_download)"
   ]
  },
  {
   "cell_type": "code",
   "execution_count": null,
   "metadata": {},
   "outputs": [],
   "source": [
    "for specie in mushrooms_europe_to_download:\n",
    "    # check if in specie there are any images, if yes, skip the download\n",
    "    if os.path.exists(os.path.join(images_dir, specie.replace('-', '_'))):\n",
    "        print(f\"Images for {specie} already exist\")\n",
    "        continue\n",
    "    get_inaturalist_images(specie, max_images=30, save_dir=images_dir)"
   ]
  },
  {
   "cell_type": "code",
   "execution_count": null,
   "metadata": {},
   "outputs": [],
   "source": [
    "# lets see how many images and mushroom species we have in our dataset\n",
    "list_of_mushrooms = os.listdir(images_dir)\n",
    "images_count = 0\n",
    "for specie in list_of_mushrooms:\n",
    "    images_count += len(os.listdir(os.path.join(images_dir, specie)))\n",
    "print(f\"We have {images_count} images of {len(list_of_mushrooms)} mushroom species in our dataset\")"
   ]
  },
  {
   "cell_type": "code",
   "execution_count": null,
   "metadata": {},
   "outputs": [],
   "source": [
    "# We can now create final list of mushrooms that are in our dataset\n",
    "final_mushroom_list = open('mushrooms_dataset/final_mushroom_list.txt', 'w')\n",
    "for specie in list_of_mushrooms:\n",
    "    final_mushroom_list.write(f\"{specie}\\n\")\n",
    "final_mushroom_list.close()"
   ]
  }
 ],
 "metadata": {
  "kernelspec": {
   "display_name": "Python 3",
   "language": "python",
   "name": "python3"
  },
  "language_info": {
   "codemirror_mode": {
    "name": "ipython",
    "version": 3
   },
   "file_extension": ".py",
   "mimetype": "text/x-python",
   "name": "python",
   "nbconvert_exporter": "python",
   "pygments_lexer": "ipython3",
   "version": "3.11.9"
  }
 },
 "nbformat": 4,
 "nbformat_minor": 2
}
