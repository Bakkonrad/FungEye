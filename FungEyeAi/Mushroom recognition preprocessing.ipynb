{
 "cells": [
  {
   "cell_type": "code",
   "execution_count": null,
   "metadata": {},
   "outputs": [],
   "source": [
    "import os\n",
    "import shutil\n",
    "from matplotlib import pyplot as plt\n",
    "import numpy as np\n",
    "import pandas as pd\n",
    "\n",
    "MUSHROOMS_PATH = 'mushrooms_dataset'\n",
    "MUSHROOM_DATASET = 'Mushrooms_images_names.tsv'"
   ]
  },
  {
   "cell_type": "code",
   "execution_count": null,
   "metadata": {},
   "outputs": [],
   "source": [
    "def create_mushrooms_path(path):\n",
    "    if os.path.exists(path):\n",
    "        print(f\"Path already exists: {path}\")\n",
    "    else:\n",
    "        os.makedirs(path)\n",
    "        print(f\"Path created: {path}\")\n",
    "        \n",
    "create_mushrooms_path(MUSHROOMS_PATH)"
   ]
  },
  {
   "cell_type": "code",
   "execution_count": null,
   "metadata": {},
   "outputs": [],
   "source": [
    "def add_dataset_to_path(path,dspath):\n",
    "    if os.path.exists(dspath):\n",
    "        shutil.move(dspath, os.path.join(path, dspath))\n",
    "    else:\n",
    "        print(f\"Dataset already in the right path: {path} or does not exist.\")\n",
    "add_dataset_to_path(MUSHROOMS_PATH, MUSHROOM_DATASET)"
   ]
  },
  {
   "cell_type": "code",
   "execution_count": null,
   "metadata": {},
   "outputs": [],
   "source": [
    "mushrooms = pd.read_csv(os.path.join(MUSHROOMS_PATH, MUSHROOM_DATASET), delimiter='\\t')\n",
    "mushrooms.head()"
   ]
  },
  {
   "cell_type": "code",
   "execution_count": null,
   "metadata": {},
   "outputs": [],
   "source": [
    "import urllib.request\n",
    "from PIL import Image\n",
    "\n",
    "plt.figure(figsize=(10,10))\n",
    "for i in range(9):\n",
    "    img_path = mushrooms.loc[i,'image']\n",
    "    img_title = mushrooms.loc[i,'name']\n",
    "\n",
    "    headers = {'User-Agent': 'Chrome/122.0.6261.129'}\n",
    "    request = urllib.request.Request(img_path, headers=headers)\n",
    "    response = urllib.request.urlopen(request)\n",
    "    img = np.array(Image.open(response))\n",
    "    plt.subplot(3,3,i+1)\n",
    "    plt.imshow(img)\n",
    "    plt.title(img_title)\n",
    "plt.show()"
   ]
  },
  {
   "cell_type": "code",
   "execution_count": null,
   "metadata": {},
   "outputs": [],
   "source": [
    "mushrooms.isnull().sum()"
   ]
  },
  {
   "cell_type": "code",
   "execution_count": null,
   "metadata": {},
   "outputs": [],
   "source": [
    "mushrooms_without_nulls = mushrooms.dropna()\n",
    "mushrooms_without_nulls.isnull().sum()"
   ]
  },
  {
   "cell_type": "code",
   "execution_count": null,
   "metadata": {},
   "outputs": [],
   "source": [
    "mushrooms = mushrooms_without_nulls\n",
    "mushrooms"
   ]
  },
  {
   "cell_type": "code",
   "execution_count": null,
   "metadata": {},
   "outputs": [],
   "source": [
    "import requests\n",
    "from concurrent.futures import ThreadPoolExecutor\n",
    "\n",
    "headers = {\n",
    "    'User-Agent': 'Chrome/122.0.6261.129'\n",
    "}\n",
    "\n",
    "\n",
    "df = mushrooms\n",
    "\n",
    "# # sort values for tests\n",
    "# df = df.sort_values('name')\n",
    "\n",
    "urls = df['image'].tolist()\n",
    "names = df['name'].tolist()\n",
    "\n",
    "def download_image(url_name):\n",
    "    url, name = url_name\n",
    "    response = requests.get(url, headers=headers)\n",
    "    response.raise_for_status()\n",
    "    if response.status_code == 200:\n",
    "        if not os.path.exists(f'{MUSHROOMS_PATH}/images/{name.replace(\" \", \"_\")}'):\n",
    "            os.makedirs(f'{MUSHROOMS_PATH}/images/{name.replace(\" \", \"_\")}') \n",
    "            print(\"Created directory: \", f'{MUSHROOMS_PATH}/images/{name.replace(\" \", \"_\")}')\n",
    "        filename = f'{MUSHROOMS_PATH}/images/{name.replace(\" \", \"_\")}/{os.path.basename(url)}'\n",
    "        if os.path.exists(filename):\n",
    "            print(f'Skipping download of {name} image  - {filename} (already exists)')\n",
    "        else:\n",
    "            with open(filename, 'wb') as f:\n",
    "                f.write(response.content)\n",
    "    else:\n",
    "        print(f'Failed to download {name}, {url}') \n",
    "        \n",
    "with ThreadPoolExecutor(max_workers=12) as executor:\n",
    "    executor.map(download_image, zip(urls,names))"
   ]
  }
 ],
 "metadata": {
  "kernelspec": {
   "display_name": "Python 3",
   "language": "python",
   "name": "python3"
  },
  "language_info": {
   "codemirror_mode": {
    "name": "ipython",
    "version": 3
   },
   "file_extension": ".py",
   "mimetype": "text/x-python",
   "name": "python",
   "nbconvert_exporter": "python",
   "pygments_lexer": "ipython3",
   "version": "3.11.9"
  }
 },
 "nbformat": 4,
 "nbformat_minor": 2
}
