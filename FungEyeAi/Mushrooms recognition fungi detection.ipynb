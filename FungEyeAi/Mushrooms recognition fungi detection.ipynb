{
 "cells": [
  {
   "cell_type": "markdown",
   "metadata": {},
   "source": [
    "Using Tensorflow Object detection API to detect mushrooms in images"
   ]
  },
  {
   "cell_type": "code",
   "execution_count": null,
   "metadata": {},
   "outputs": [],
   "source": [
    "# For running inference on the TF-Hub module.\n",
    "import tensorflow as tf\n",
    "\n",
    "import tensorflow_hub as hub\n",
    "\n",
    "# For downloading the image.\n",
    "import matplotlib.pyplot as plt\n",
    "\n",
    "# For drawing onto the image.\n",
    "import numpy as np\n",
    "from PIL import Image\n",
    "from PIL import ImageColor\n",
    "from PIL import ImageDraw\n",
    "from PIL import ImageFont\n",
    "\n",
    "# For measuring the inference time.\n",
    "import time\n",
    "\n",
    "# Print Tensorflow version\n",
    "print(tf.__version__)"
   ]
  },
  {
   "cell_type": "code",
   "execution_count": null,
   "metadata": {},
   "outputs": [],
   "source": [
    "# Functions for displaying images and drawing bounding boxes on them\n",
    "def display_image(image):\n",
    "  plt.figure(figsize=(20, 15))\n",
    "  plt.grid(False)\n",
    "  plt.imshow(image)\n",
    "\n",
    "\n",
    "def load_img_from_path(path):\n",
    "  img = tf.io.read_file(path)\n",
    "  img = tf.image.decode_jpeg(img, channels=3)\n",
    "  return img\n",
    "\n",
    "\n",
    "def draw_box_on_image(image, ymin, xmin, ymax, xmax, color, font, thickness=4, display_str_list=()):\n",
    "  draw = ImageDraw.Draw(image)\n",
    "  im_width, im_height = image.size\n",
    "\n",
    "  (left, right, top, bottom) = (xmin * im_width, xmax * im_width, ymin * im_height, ymax * im_height)\n",
    "\n",
    "  draw.line([(left, top), (left, bottom), (right, bottom), (right, top), (left, top)], width=thickness, fill=color)\n",
    "  # If the total height of the display strings added to the top of the bounding box exceeds the top of the image, stack the strings below the bounding box instead of above.\n",
    "  display_str_heights = [font.getbbox(ds)[3] for ds in display_str_list]\n",
    "  # Calculate the total height to display text\n",
    "  total_display_str_height = (1 + 2 * 0.05) * sum(display_str_heights)\n",
    "  if top > total_display_str_height:\n",
    "    text_bottom = top\n",
    "  else:\n",
    "    text_bottom = top + total_display_str_height\n",
    "  # Reverse list and print from bottom to top\n",
    "  for display_str in display_str_list[::-1]:\n",
    "    bbox = font.getbbox(display_str)\n",
    "    text_width, text_height = bbox[2], bbox[3]\n",
    "    margin = np.ceil(0.05 * text_height)\n",
    "    draw.rectangle([(left, text_bottom - text_height - 2 * margin), (left + text_width, text_bottom)], fill=color)\n",
    "    draw.text((left + margin, text_bottom - text_height - margin), display_str, fill=\"black\", font=font)\n",
    "    text_bottom -= text_height - 2 * margin\n",
    "  "
   ]
  },
  {
   "cell_type": "code",
   "execution_count": null,
   "metadata": {},
   "outputs": [],
   "source": [
    "# Function for drawing a box around the object\n",
    "def draw_box_on_object(image, boxes, class_names, scores, max_boxes=5, min_score=0.1):\n",
    "    colors = list(ImageColor.colormap.values())\n",
    "    font = ImageFont.load_default()\n",
    "\n",
    "    for i in range(min(boxes.shape[0], max_boxes)):\n",
    "        if scores[i].any() >= min_score:\n",
    "            ymin, xmin, ymax, xmax = tuple(boxes[i])\n",
    "            display_str = \"{}: {}%\".format(class_names[i].decode(\"ascii\"), int(100 * scores[i]))\n",
    "            color = colors[hash(class_names[i]) % len(colors)]\n",
    "            image_pil = Image.fromarray(np.uint8(image)).convert(\"RGB\")\n",
    "            draw_box_on_image(image_pil, ymin, xmin, ymax, xmax, color, font, display_str_list=[display_str])\n",
    "            np.copyto(image, np.array(image_pil))\n",
    "    return image"
   ]
  },
  {
   "cell_type": "code",
   "execution_count": null,
   "metadata": {},
   "outputs": [],
   "source": [
    "sample_image_path = 'mushrooms_dataset/images/Agaricus_bisporus/614156.jpg'\n",
    "image = load_img_from_path(sample_image_path)\n",
    "display_image(image)\n",
    "# image = Image.open(sample_image_path + '.jpg').resize((640,640))"
   ]
  },
  {
   "cell_type": "code",
   "execution_count": null,
   "metadata": {},
   "outputs": [],
   "source": [
    "# Now we load the TF-Hub module\n",
    "# module_handle = \"https://tfhub.dev/google/faster_rcnn/openimages_v4/inception_resnet_v2/1\"\n",
    "module_handle = \"https://tfhub.dev/google/openimages_v4/ssd/mobilenet_v2/1\"\n",
    "\n",
    "#TODO use YOLO model\n",
    "detector = hub.load(module_handle).signatures['default']"
   ]
  },
  {
   "cell_type": "code",
   "execution_count": null,
   "metadata": {},
   "outputs": [],
   "source": [
    "def run_detector(detector, image, display_img=True):\n",
    "  img = load_img_from_path(image)\n",
    "\n",
    "  converted_img  = tf.image.convert_image_dtype(img, tf.float32)[tf.newaxis, ...]\n",
    "  start_time = time.time()\n",
    "  result = detector(converted_img)\n",
    "  end_time = time.time()\n",
    "\n",
    "\n",
    "  result = {key:value.numpy() for key,value in result.items()}\n",
    "\n",
    "  print(\"Found %d objects.\" % len(result[\"detection_scores\"]))\n",
    "  print(\"Inference time: \", end_time-start_time)\n",
    "  \n",
    "  image_with_boxes = draw_box_on_object(\n",
    "      img.numpy(), result[\"detection_boxes\"],\n",
    "      result[\"detection_class_entities\"], result[\"detection_scores\"])\n",
    "  \n",
    "  if display_img:\n",
    "    display_image(image_with_boxes)\n",
    "\n",
    "  return result\n",
    "  \n",
    "\n",
    "run_detector(detector, sample_image_path, display_img=True)"
   ]
  },
  {
   "cell_type": "code",
   "execution_count": null,
   "metadata": {},
   "outputs": [],
   "source": [
    "run_detector(detector,'mushrooms_dataset/images/Agaricus_abruptibulbus/60416.jpg', display_img=True)"
   ]
  },
  {
   "cell_type": "code",
   "execution_count": null,
   "metadata": {},
   "outputs": [],
   "source": [
    "# Examlple of running detector without displaying the image\n",
    "run_detector(detector,'mushrooms_dataset/images/Agaricus_bisporus/869.jpg',display_img=False)"
   ]
  },
  {
   "cell_type": "markdown",
   "metadata": {},
   "source": [
    "Skrypt do wykrywania czy na zdjeciu jest grzyb i selekcji zdjecia do odpowiednich katalogów"
   ]
  },
  {
   "cell_type": "code",
   "execution_count": null,
   "metadata": {},
   "outputs": [],
   "source": [
    "import os\n",
    "import shutil\n",
    "\n",
    "input_dir = 'mushrooms_dataset/images'\n",
    "subdirs = [os.path.join(input_dir, subdir).replace('\\\\', '/') for subdir in os.listdir(input_dir) if os.path.isdir(os.path.join(input_dir, subdir))]\n",
    "\n",
    "# Setting up directories for correct and incorrect images\n",
    "output_dir_correct = 'mushrooms_dataset/images_FasterRCNN/images_correct'\n",
    "output_dir_incorrect = 'mushrooms_dataset/images_FasterRCNN/images_incorrect'\n",
    "\n",
    "len(subdirs)\n"
   ]
  },
  {
   "cell_type": "code",
   "execution_count": null,
   "metadata": {},
   "outputs": [],
   "source": [
    "def process_images(detector, output_dir_correct, output_dir_incorrect):\n",
    "    detected = False\n",
    "    detected_threshold = 0.05\n",
    "    for subdir in subdirs:\n",
    "        for image_path in os.listdir(subdir):\n",
    "            image_path = os.path.join(subdir, image_path)\n",
    "            print(f'Processing image {image_path}')\n",
    "\n",
    "            subdir_name = os.path.basename(subdir)\n",
    "            image_name = os.path.basename(image_path)\n",
    "\n",
    "            result = run_detector(detector, image_path, display_img=False)\n",
    "            # We focus here on class entity Mushroom and if the score is above the threshold\n",
    "            for score, label in zip(result['detection_scores'], result['detection_class_entities']):\n",
    "                if label == b'Mushroom':\n",
    "                    if score >= detected_threshold:\n",
    "                        detected = True\n",
    "                        break\n",
    "                    else:\n",
    "                        detected = False\n",
    "                else:\n",
    "                    detected = False\n",
    "\n",
    "            if detected:\n",
    "                correct_image_path =  os.path.join(output_dir_correct, subdir_name)\n",
    "                os.makedirs(correct_image_path, exist_ok=True) # Create the directory if it does not exist\n",
    "                output_dir = os.path.join(correct_image_path, image_name) # Create the full path to the image\n",
    "            else:\n",
    "                incorrect_image_path =  os.path.join(output_dir_incorrect, subdir_name)\n",
    "                os.makedirs(incorrect_image_path, exist_ok=True)\n",
    "                output_dir = os.path.join(incorrect_image_path, image_name)\n",
    "            \n",
    "            # Copy the image to the right directory based on the detection result\n",
    "            shutil.copy(image_path, output_dir)\n",
    "            print(f'Image {image_path} was copied to {output_dir}')\n",
    "\n",
    "process_images(detector, output_dir_correct, output_dir_incorrect)"
   ]
  },
  {
   "cell_type": "code",
   "execution_count": null,
   "metadata": {},
   "outputs": [],
   "source": [
    "# Make a file with mushroom names\n",
    "import os\n",
    "def get_mushroom_names():\n",
    "    mushroom_names = []\n",
    "    for mushroom in os.listdir('mushrooms_dataset/imagesFasterRCNN/images_correct'):\n",
    "        mushroom_names.append(mushroom)\n",
    "    with open('mushroom_names.txt', 'w') as f:\n",
    "        for item in mushroom_names:\n",
    "            f.write(\"%s\\n\" % item)\n",
    "\n",
    "# get_mushroom_names()"
   ]
  },
  {
   "cell_type": "code",
   "execution_count": null,
   "metadata": {},
   "outputs": [],
   "source": [
    "# lets check how many images we have in images_correct and images_incorrect\n",
    "correct_images = 0\n",
    "incorrect_images = 0\n",
    "\n",
    "subdirs_correct = os.listdir(output_dir_correct)\n",
    "subdirs_incorrect = os.listdir(output_dir_incorrect)\n",
    "\n",
    "for subdir in subdirs_correct:\n",
    "    correct_images += len(os.listdir(os.path.join(output_dir_correct, subdir)))\n",
    "\n",
    "for subdir in subdirs_incorrect:\n",
    "    incorrect_images += len(os.listdir(os.path.join(output_dir_incorrect, subdir)))\n",
    "\n",
    "print(f'Correct images: {correct_images}') # 98639\n",
    "print(f'Incorrect images: {incorrect_images}') # 77076\n"
   ]
  }
 ],
 "metadata": {
  "kernelspec": {
   "display_name": "Python 3",
   "language": "python",
   "name": "python3"
  },
  "language_info": {
   "codemirror_mode": {
    "name": "ipython",
    "version": 3
   },
   "file_extension": ".py",
   "mimetype": "text/x-python",
   "name": "python",
   "nbconvert_exporter": "python",
   "pygments_lexer": "ipython3",
   "version": "3.11.9"
  }
 },
 "nbformat": 4,
 "nbformat_minor": 2
}
